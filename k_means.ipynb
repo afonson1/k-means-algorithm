{
  "nbformat": 4,
  "nbformat_minor": 0,
  "metadata": {
    "colab": {
      "name": "k-means.ipynb",
      "provenance": [],
      "authorship_tag": "ABX9TyN3bQgKFcmbp9sSN/HfDsDD"
    },
    "kernelspec": {
      "name": "python3",
      "display_name": "Python 3"
    }
  },
  "cells": [
    {
      "cell_type": "markdown",
      "metadata": {
        "id": "t_tZFtOPloPh",
        "colab_type": "text"
      },
      "source": [
        "Importação das bibliotecas que serão utilizadas"
      ]
    },
    {
      "cell_type": "code",
      "metadata": {
        "id": "RDIGECEIlmv6",
        "colab_type": "code",
        "colab": {}
      },
      "source": [
        "import numpy as np\n",
        "from matplotlib import pyplot as plt\n",
        "from sklearn.datasets import make_blobs\n",
        "from sklearn.cluster import k_means"
      ],
      "execution_count": 0,
      "outputs": []
    },
    {
      "cell_type": "markdown",
      "metadata": {
        "id": "v9n1Bf8emkQU",
        "colab_type": "text"
      },
      "source": [
        "# Exemplo do passo a passo do K-Means\n",
        "Criação do conjunto de dados utilizado como exemplo no passo a passo"
      ]
    },
    {
      "cell_type": "markdown",
      "metadata": {
        "id": "Srv67p73meTG",
        "colab_type": "text"
      },
      "source": [
        ""
      ]
    }
  ]
}